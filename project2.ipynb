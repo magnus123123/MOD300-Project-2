{
 "cells": [
  {
   "cell_type": "markdown",
   "id": "e452ba8a",
   "metadata": {},
   "source": [
    "Modeling the Worst: A Zombie and Ebola outbreak\n",
    "\n",
    "MOD300: Mandatory Project 2\n",
    "\n",
    "Collaborators: Noah Bjerke, Martin Beitdokken and Magnus Eidsvåg"
   ]
  },
  {
   "cell_type": "markdown",
   "id": "993d629e",
   "metadata": {},
   "source": [
    "Abstract\n",
    "\n"
   ]
  },
  {
   "cell_type": "markdown",
   "id": "28e645c3",
   "metadata": {},
   "source": [
    "Introduction\n"
   ]
  },
  {
   "cell_type": "markdown",
   "id": "a00b4d78",
   "metadata": {},
   "source": [
    "Modeling a zombie outbreak"
   ]
  },
  {
   "cell_type": "markdown",
   "id": "7b6f657e",
   "metadata": {},
   "source": [
    "Exercise 1"
   ]
  },
  {
   "cell_type": "markdown",
   "id": "0a0a0701",
   "metadata": {},
   "source": [
    "Exercise 2"
   ]
  },
  {
   "cell_type": "markdown",
   "id": "1729ce47",
   "metadata": {},
   "source": [
    "Exercise 3"
   ]
  },
  {
   "cell_type": "markdown",
   "id": "9a9368c3",
   "metadata": {},
   "source": [
    "Exercise 4"
   ]
  },
  {
   "cell_type": "markdown",
   "id": "7d3962d4",
   "metadata": {},
   "source": [
    "Exercise 5"
   ]
  },
  {
   "cell_type": "markdown",
   "id": "5c09ea6c",
   "metadata": {},
   "source": [
    "Reflection"
   ]
  }
 ],
 "metadata": {
  "language_info": {
   "name": "python"
  }
 },
 "nbformat": 4,
 "nbformat_minor": 5
}
